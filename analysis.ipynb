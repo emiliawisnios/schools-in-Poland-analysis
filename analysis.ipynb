{
 "cells": [
  {
   "cell_type": "code",
   "execution_count": null,
   "metadata": {
    "collapsed": true
   },
   "outputs": [],
   "source": [
    "from school_analysis.io.load import get_school_data, get_inhabitants_data\n",
    "from school_analysis.calculate import students_per_teacher, students_per_teacher_minimum, students_per_teacher_maximum, students_per_teacher_average, students_per_teacher_maximum_per_districttype, students_per_teacher_average_per_districttype, students_per_teacher_per_districttype, sum_of_students, percentage_of_students, students_per_school_by_year_by_district, statistics_per_school_per_year_per_district, statistics_per_school_per_year_per_districttype, students_per_teacher_minimum_per_districttype\n"
   ]
  },
  {
   "cell_type": "code",
   "execution_count": null,
   "outputs": [],
   "source": [
    "school_dataframe = get_school_data(\"../../data/Wykaz_szkół.xlsx\")\n",
    "inhabitants_data = get_inhabitants_data(\"../../data/tabela12.xls\")"
   ],
   "metadata": {
    "collapsed": false,
    "pycharm": {
     "name": "#%%\n"
    }
   }
  },
  {
   "cell_type": "code",
   "execution_count": null,
   "outputs": [],
   "source": [
    "min_df = students_per_teacher_minimum(school_dataframe)\n",
    "max_df = students_per_teacher_maximum(school_dataframe)\n",
    "average_df = students_per_teacher_average(school_dataframe)\n",
    "\n",
    "students_per_teacher_df = students_per_teacher(min_df, max_df, average_df)\n",
    "students_per_teacher.head()\n"
   ],
   "metadata": {
    "collapsed": false,
    "pycharm": {
     "name": "#%%\n"
    }
   }
  },
  {
   "cell_type": "code",
   "execution_count": null,
   "outputs": [],
   "source": [
    "min_df_per_type = students_per_teacher_minimum_per_districttype(school_dataframe)\n",
    "max_df_per_type = students_per_teacher_maximum_per_districttype(school_dataframe)\n",
    "average_df_per_type = students_per_teacher_average_per_districttype(school_dataframe)\n",
    "\n",
    "students_per_teacher_per_dsttype_df = students_per_teacher_per_districttype(min_df_per_type, max_df_per_type, average_df_per_type)\n",
    "students_per_teacher_per_dsttype_df.head()\n",
    "\n"
   ],
   "metadata": {
    "collapsed": false,
    "pycharm": {
     "name": "#%%\n"
    }
   }
  },
  {
   "cell_type": "code",
   "execution_count": null,
   "outputs": [],
   "source": [
    "students_in_total = sum_of_students(inhabitants_data)\n",
    "inhabitants_dataframe = percentage_of_students(inhabitants_data, students_in_total)\n",
    "\n",
    "statistic_dataframe = students_per_school_by_year_by_district(school_dataframe, inhabitants_dataframe)\n",
    "\n",
    "stats_per_district = statistics_per_school_per_year_per_district(statistic_dataframe)\n",
    "stats_per_district.head()\n",
    "\n",
    "stats_per_districttype = statistics_per_school_per_year_per_districttype(statistic_dataframe)\n",
    "stats_per_districttype.head()"
   ],
   "metadata": {
    "collapsed": false,
    "pycharm": {
     "name": "#%%\n"
    }
   }
  }
 ],
 "metadata": {
  "kernelspec": {
   "display_name": "Python 3",
   "language": "python",
   "name": "python3"
  },
  "language_info": {
   "codemirror_mode": {
    "name": "ipython",
    "version": 2
   },
   "file_extension": ".py",
   "mimetype": "text/x-python",
   "name": "python",
   "nbconvert_exporter": "python",
   "pygments_lexer": "ipython2",
   "version": "2.7.6"
  },
  "pycharm": {
   "stem_cell": {
    "cell_type": "raw",
    "source": [],
    "metadata": {
     "collapsed": false
    }
   }
  }
 },
 "nbformat": 4,
 "nbformat_minor": 0
}